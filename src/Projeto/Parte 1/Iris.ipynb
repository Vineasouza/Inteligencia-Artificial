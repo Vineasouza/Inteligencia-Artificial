{
 "cells": [
  {
   "cell_type": "markdown",
   "id": "d55b5844",
   "metadata": {},
   "source": [
    "<div>\n",
    "    <h1 align=\"center\">Trabalho de Machine Learning</h1>\n",
    "    <div align=\"center\">Lucas de Almeida, RA: 1996762</div>\n",
    "    <div align=\"center\">Vinícius Augusto de Souza, RA: 1997530</div>\n",
    "    <hr/>\n",
    "    <div align=\"center\">O <i>dataset</i> escolhido para este trabalho foi o famoso dataset <strong>Iris</strong>, que pode ser acessado <a href=\"https://archive.ics.uci.edu/ml/datasets/Iris\">nesse link</a>.</div>\n",
    "    <div align=\"center\">Se trata de um conjunto de dados relativos a três espécies da flor Iris (Iris setosa, Iris virginica e Iris versicolor).</div>\n",
    "</div>"
   ]
  },
  {
   "cell_type": "code",
   "execution_count": 26,
   "id": "recognized-artist",
   "metadata": {},
   "outputs": [],
   "source": [
    "import pandas as pd\n",
    "import matplotlib.pyplot as plt\n",
    "import numpy as np"
   ]
  },
  {
   "cell_type": "markdown",
   "id": "46549642",
   "metadata": {},
   "source": [
    "<p>Após importar as bibliotecas para auxiliar no projeto, foi necessário ler o arquivo '<i>iris.data</i>' que contém efetivamente os dados utilizados para treinar e testar o modelo.</p> \n",
    "<p>Para cada coluna dos dados, atribuiu-se seus respectivos nomes:</p>\n",
    "<ul>\n",
    "    <li><i>sepal_lenght</i>: o comprimento da sépala;</li>\n",
    "    <li><i>sepal_width</i>: a largura da sépala;</li>\n",
    "    <li><i>petal_length</i>: o comprimento da pétala;</li>\n",
    "    <li><i>petal_width</i>: a largura da pétala;</li>\n",
    "    <li><i>class</i>: qual é sua espécie (Iris setosa, Iris virginica ou Iris versicolor).</li> \n",
    "</ul>"
   ]
  },
  {
   "cell_type": "code",
   "execution_count": 27,
   "id": "attended-fossil",
   "metadata": {},
   "outputs": [],
   "source": [
    "df = pd.read_csv('iris.data')"
   ]
  },
  {
   "cell_type": "code",
   "execution_count": 28,
   "id": "brutal-merit",
   "metadata": {},
   "outputs": [],
   "source": [
    "attributes = [\"sepal_length\", \"sepal_width\", \"petal_length\", \"petal_width\", \"class\"]\n",
    "df.columns = attributes"
   ]
  },
  {
   "cell_type": "markdown",
   "id": "e92bc8ae",
   "metadata": {},
   "source": [
    "<p>Abaixo pode-se observar parte do inicio e fim do conjunto de dados já com as colunas nomeadas."
   ]
  },
  {
   "cell_type": "code",
   "execution_count": 29,
   "id": "approved-republican",
   "metadata": {},
   "outputs": [
    {
     "data": {
      "text/html": [
       "<div>\n",
       "<style scoped>\n",
       "    .dataframe tbody tr th:only-of-type {\n",
       "        vertical-align: middle;\n",
       "    }\n",
       "\n",
       "    .dataframe tbody tr th {\n",
       "        vertical-align: top;\n",
       "    }\n",
       "\n",
       "    .dataframe thead th {\n",
       "        text-align: right;\n",
       "    }\n",
       "</style>\n",
       "<table border=\"1\" class=\"dataframe\">\n",
       "  <thead>\n",
       "    <tr style=\"text-align: right;\">\n",
       "      <th></th>\n",
       "      <th>sepal_length</th>\n",
       "      <th>sepal_width</th>\n",
       "      <th>petal_length</th>\n",
       "      <th>petal_width</th>\n",
       "      <th>class</th>\n",
       "    </tr>\n",
       "  </thead>\n",
       "  <tbody>\n",
       "    <tr>\n",
       "      <th>0</th>\n",
       "      <td>4.9</td>\n",
       "      <td>3.0</td>\n",
       "      <td>1.4</td>\n",
       "      <td>0.2</td>\n",
       "      <td>Iris-setosa</td>\n",
       "    </tr>\n",
       "    <tr>\n",
       "      <th>1</th>\n",
       "      <td>4.7</td>\n",
       "      <td>3.2</td>\n",
       "      <td>1.3</td>\n",
       "      <td>0.2</td>\n",
       "      <td>Iris-setosa</td>\n",
       "    </tr>\n",
       "    <tr>\n",
       "      <th>2</th>\n",
       "      <td>4.6</td>\n",
       "      <td>3.1</td>\n",
       "      <td>1.5</td>\n",
       "      <td>0.2</td>\n",
       "      <td>Iris-setosa</td>\n",
       "    </tr>\n",
       "    <tr>\n",
       "      <th>3</th>\n",
       "      <td>5.0</td>\n",
       "      <td>3.6</td>\n",
       "      <td>1.4</td>\n",
       "      <td>0.2</td>\n",
       "      <td>Iris-setosa</td>\n",
       "    </tr>\n",
       "    <tr>\n",
       "      <th>4</th>\n",
       "      <td>5.4</td>\n",
       "      <td>3.9</td>\n",
       "      <td>1.7</td>\n",
       "      <td>0.4</td>\n",
       "      <td>Iris-setosa</td>\n",
       "    </tr>\n",
       "    <tr>\n",
       "      <th>...</th>\n",
       "      <td>...</td>\n",
       "      <td>...</td>\n",
       "      <td>...</td>\n",
       "      <td>...</td>\n",
       "      <td>...</td>\n",
       "    </tr>\n",
       "    <tr>\n",
       "      <th>144</th>\n",
       "      <td>6.7</td>\n",
       "      <td>3.0</td>\n",
       "      <td>5.2</td>\n",
       "      <td>2.3</td>\n",
       "      <td>Iris-virginica</td>\n",
       "    </tr>\n",
       "    <tr>\n",
       "      <th>145</th>\n",
       "      <td>6.3</td>\n",
       "      <td>2.5</td>\n",
       "      <td>5.0</td>\n",
       "      <td>1.9</td>\n",
       "      <td>Iris-virginica</td>\n",
       "    </tr>\n",
       "    <tr>\n",
       "      <th>146</th>\n",
       "      <td>6.5</td>\n",
       "      <td>3.0</td>\n",
       "      <td>5.2</td>\n",
       "      <td>2.0</td>\n",
       "      <td>Iris-virginica</td>\n",
       "    </tr>\n",
       "    <tr>\n",
       "      <th>147</th>\n",
       "      <td>6.2</td>\n",
       "      <td>3.4</td>\n",
       "      <td>5.4</td>\n",
       "      <td>2.3</td>\n",
       "      <td>Iris-virginica</td>\n",
       "    </tr>\n",
       "    <tr>\n",
       "      <th>148</th>\n",
       "      <td>5.9</td>\n",
       "      <td>3.0</td>\n",
       "      <td>5.1</td>\n",
       "      <td>1.8</td>\n",
       "      <td>Iris-virginica</td>\n",
       "    </tr>\n",
       "  </tbody>\n",
       "</table>\n",
       "<p>149 rows × 5 columns</p>\n",
       "</div>"
      ],
      "text/plain": [
       "     sepal_length  sepal_width  petal_length  petal_width           class\n",
       "0             4.9          3.0           1.4          0.2     Iris-setosa\n",
       "1             4.7          3.2           1.3          0.2     Iris-setosa\n",
       "2             4.6          3.1           1.5          0.2     Iris-setosa\n",
       "3             5.0          3.6           1.4          0.2     Iris-setosa\n",
       "4             5.4          3.9           1.7          0.4     Iris-setosa\n",
       "..            ...          ...           ...          ...             ...\n",
       "144           6.7          3.0           5.2          2.3  Iris-virginica\n",
       "145           6.3          2.5           5.0          1.9  Iris-virginica\n",
       "146           6.5          3.0           5.2          2.0  Iris-virginica\n",
       "147           6.2          3.4           5.4          2.3  Iris-virginica\n",
       "148           5.9          3.0           5.1          1.8  Iris-virginica\n",
       "\n",
       "[149 rows x 5 columns]"
      ]
     },
     "execution_count": 29,
     "metadata": {},
     "output_type": "execute_result"
    }
   ],
   "source": [
    "df"
   ]
  },
  {
   "cell_type": "markdown",
   "id": "40e07221",
   "metadata": {},
   "source": [
    "<p>Foi feita em seguida a plotagem dos gráficos da matriz de dispersão entre os parâmetros das amostras do\n",
    "dataset, tendo na diagonal principal o histograma dos parâmetros e no restante\n",
    "da matriz a dispersão dos dados. O resultado pode ser visto na figura abaixo.</p> "
   ]
  },
  {
   "cell_type": "code",
   "execution_count": 30,
   "id": "finite-courtesy",
   "metadata": {},
   "outputs": [
    {
     "data": {
      "image/png": "[encoded data removed]",
      "text/plain": [
       "<Figure size 864x864 with 16 Axes>"
      ]
     },
     "metadata": {
      "needs_background": "light"
     },
     "output_type": "display_data"
    }
   ],
   "source": [
    "fig, axs = plt.subplots(4,4,figsize=(12,12))\n",
    "plt.subplots_adjust(wspace=0, hspace=0)\n",
    "axs[3,0].set(xlabel=\"sepal_length\")\n",
    "axs[3,1].set(xlabel=\"sepal_width\")\n",
    "axs[3,2].set(xlabel=\"petal_length\")\n",
    "axs[3,3].set(xlabel=\"petal_width\")    \n",
    "axs[0,0].set(ylabel=\"sepal_length\")\n",
    "axs[1,0].set(ylabel=\"sepal_width\")\n",
    "axs[2,0].set(ylabel=\"petal_length\")\n",
    "axs[3,0].set(ylabel=\"petal_width\")\n",
    "for j in range(0,4):\n",
    "    for i in range(0,4):\n",
    "        if(i == j):\n",
    "            axs[i,j].bar(df.iloc[:, j],df.iloc[:,i])\n",
    "        else:\n",
    "            axs[i,j].scatter(df.iloc[:,j], df.iloc[:, i])\n",
    "for ax in axs.flat:\n",
    "    ax.label_outer()"
   ]
  },
  {
   "cell_type": "markdown",
   "id": "26021f33",
   "metadata": {},
   "source": [
    "<p>Em seguida, foi feito o boxplot desse dataset.</p> "
   ]
  },
  {
   "cell_type": "markdown",
   "id": "figured-feedback",
   "metadata": {},
   "source": [
    "# BOXPLOT"
   ]
  },
  {
   "cell_type": "markdown",
   "id": "contained-minutes",
   "metadata": {},
   "source": [
    "### ----------------AQUI--------------------"
   ]
  },
  {
   "cell_type": "code",
   "execution_count": 6,
   "id": "bd41a2be",
   "metadata": {},
   "outputs": [
    {
     "data": {
      "text/plain": [
       "<AxesSubplot:>"
      ]
     },
     "execution_count": 6,
     "metadata": {},
     "output_type": "execute_result"
    },
    {
     "data": {
      "image/png": "[encoded data removed]",
      "text/plain": [
       "<Figure size 576x576 with 1 Axes>"
      ]
     },
     "metadata": {
      "needs_background": "light"
     },
     "output_type": "display_data"
    }
   ],
   "source": [
    "plt.figure(figsize = (8, 8))\n",
    "df.boxplot()"
   ]
  },
  {
   "cell_type": "markdown",
   "id": "7d677dd2",
   "metadata": {},
   "source": [
    "<p>E então, iniciou-se o processo de treinamento do modelo de machine learning escolhido, que foi o modelo <strong>Decision Tree</strong>.</p> Os passos a seguir foram:\n",
    "<ul>\n",
    "    <li>Criar uma cópia da coluna \"<i>class</i>\" do conjunto de dados e armazenar na variável <i>x</i>;</li>\n",
    "    <li>Criar uma cópia de todas as colunas do conjunto de dados, com exceção da coluna \"<i>class</i>\", e armazenar na variável <i>y</i>;</li>\n",
    "    <li>Importar a função \"<i>train_test_split</i>\" da biblioteca \"<i>sklearn</i>\";</li>\n",
    "    <li>Dividir as variáveis \"<i>x</i>\" e \"<i>y</i>\" em treino e teste usando a função \"<i>train_test_split</i>\", sendo 80% dos dados para treino e 20% para testes;</li>\n",
    "    <li>Treinar o modelo escolhido (<i>Decision Tree</i>) com os dados de treino (<i>x_treino</i> e <i>y_treino</i>).</li>\n",
    "</ul>"
   ]
  },
  {
   "cell_type": "code",
   "execution_count": 7,
   "id": "neither-arctic",
   "metadata": {},
   "outputs": [],
   "source": [
    "y = df['class']\n",
    "x = df.drop('class', axis=1)"
   ]
  },
  {
   "cell_type": "code",
   "execution_count": 8,
   "id": "packed-exclusion",
   "metadata": {},
   "outputs": [],
   "source": [
    "from sklearn.model_selection import train_test_split"
   ]
  },
  {
   "cell_type": "code",
   "execution_count": 9,
   "id": "excellent-showcase",
   "metadata": {},
   "outputs": [],
   "source": [
    "x_treino, x_teste, y_treino, y_teste = train_test_split(x, y, test_size = 0.2)"
   ]
  },
  {
   "cell_type": "code",
   "execution_count": 34,
   "id": "frequent-belize",
   "metadata": {},
   "outputs": [],
   "source": [
    "from sklearn.tree import DecisionTreeClassifier"
   ]
  },
  {
   "cell_type": "code",
   "execution_count": 11,
   "id": "arctic-break",
   "metadata": {},
   "outputs": [
    {
     "data": {
      "text/plain": [
       "DecisionTreeClassifier()"
      ]
     },
     "execution_count": 11,
     "metadata": {},
     "output_type": "execute_result"
    }
   ],
   "source": [
    "modelo = DecisionTreeClassifier()\n",
    "modelo.fit(x_treino, y_treino)"
   ]
  },
  {
   "cell_type": "markdown",
   "id": "9275adf1",
   "metadata": {},
   "source": [
    "<div>Após o treino, a acurácia obtida foi a que segue abaixo:</div>"
   ]
  },
  {
   "cell_type": "code",
   "execution_count": 12,
   "id": "loose-ending",
   "metadata": {},
   "outputs": [
    {
     "name": "stdout",
     "output_type": "stream",
     "text": [
      "Acurácia:  0.9333333333333333\n"
     ]
    }
   ],
   "source": [
    "result = modelo.score(x_teste, y_teste)\n",
    "print(\"Acurácia: \", result)"
   ]
  },
  {
   "cell_type": "markdown",
   "id": "e6e6cbe4",
   "metadata": {},
   "source": [
    "<div>Apicando agora os testes para denotar a previsão e repassá-la para a classificação, o resultado obtido foi o que segue abaixo, na tabela, onde pode-se observar os dados de <i>precision</i>, <i>recall</i>, <i>f1-score</i> e <i>support</i>:</div>"
   ]
  },
  {
   "cell_type": "code",
   "execution_count": 13,
   "id": "optimum-broadcast",
   "metadata": {},
   "outputs": [],
   "source": [
    "previsoes = modelo.predict(x_teste)"
   ]
  },
  {
   "cell_type": "code",
   "execution_count": 14,
   "id": "abstract-philosophy",
   "metadata": {},
   "outputs": [
    {
     "data": {
      "text/plain": [
       "array(['Iris-setosa', 'Iris-virginica', 'Iris-versicolor',\n",
       "       'Iris-virginica', 'Iris-virginica', 'Iris-versicolor',\n",
       "       'Iris-versicolor', 'Iris-setosa', 'Iris-virginica', 'Iris-setosa',\n",
       "       'Iris-virginica', 'Iris-versicolor', 'Iris-setosa',\n",
       "       'Iris-versicolor', 'Iris-setosa', 'Iris-setosa', 'Iris-virginica',\n",
       "       'Iris-versicolor', 'Iris-versicolor', 'Iris-versicolor',\n",
       "       'Iris-setosa', 'Iris-virginica', 'Iris-versicolor',\n",
       "       'Iris-virginica', 'Iris-virginica', 'Iris-versicolor',\n",
       "       'Iris-setosa', 'Iris-versicolor', 'Iris-versicolor',\n",
       "       'Iris-versicolor', 'Iris-versicolor', 'Iris-setosa', 'Iris-setosa',\n",
       "       'Iris-versicolor', 'Iris-setosa', 'Iris-virginica', 'Iris-setosa',\n",
       "       'Iris-setosa', 'Iris-setosa', 'Iris-virginica', 'Iris-versicolor',\n",
       "       'Iris-versicolor', 'Iris-versicolor', 'Iris-setosa',\n",
       "       'Iris-versicolor'], dtype=object)"
      ]
     },
     "execution_count": 14,
     "metadata": {},
     "output_type": "execute_result"
    }
   ],
   "source": [
    "previsoes"
   ]
  },
  {
   "cell_type": "code",
   "execution_count": 15,
   "id": "native-canada",
   "metadata": {},
   "outputs": [],
   "source": [
    "from sklearn.metrics import classification_report, confusion_matrix, plot_confusion_matrix"
   ]
  },
  {
   "cell_type": "code",
   "execution_count": 16,
   "id": "hairy-mandate",
   "metadata": {},
   "outputs": [
    {
     "name": "stdout",
     "output_type": "stream",
     "text": [
      "-------------------CLASSIFICATION-----------------\n",
      "                 precision    recall  f1-score   support\n",
      "\n",
      "    Iris-setosa       1.00      1.00      1.00        15\n",
      "Iris-versicolor       0.84      1.00      0.91        16\n",
      " Iris-virginica       1.00      0.79      0.88        14\n",
      "\n",
      "       accuracy                           0.93        45\n",
      "      macro avg       0.95      0.93      0.93        45\n",
      "   weighted avg       0.94      0.93      0.93        45\n",
      "\n"
     ]
    }
   ],
   "source": [
    "classification = classification_report(y_teste, previsoes)\n",
    "print('-------------------CLASSIFICATION-----------------')\n",
    "print(classification)"
   ]
  },
  {
   "cell_type": "markdown",
   "id": "508d08d0",
   "metadata": {},
   "source": [
    "<div>Por fim, foi feita a matriz de confusão de resultados, do conjunto de teste, que pode ser conferida abaixo na figura:</div>"
   ]
  },
  {
   "cell_type": "code",
   "execution_count": 17,
   "id": "detected-girlfriend",
   "metadata": {},
   "outputs": [
    {
     "name": "stdout",
     "output_type": "stream",
     "text": [
      "----------------Matrix de Confusão--------------\n",
      "[[15  0  0]\n",
      " [ 0 16  0]\n",
      " [ 0  3 11]]\n"
     ]
    }
   ],
   "source": [
    "matrix = confusion_matrix(y_teste, previsoes)\n",
    "#print('----------------Matrix de Confusão--------------')\n",
    "#print(matrix)"
   ]
  },
  {
   "cell_type": "code",
   "execution_count": 18,
   "id": "vital-bennett",
   "metadata": {},
   "outputs": [
    {
     "data": {
      "image/png": "[encoded data removed]",
      "text/plain": [
       "<Figure size 432x288 with 2 Axes>"
      ]
     },
     "metadata": {
      "needs_background": "light"
     },
     "output_type": "display_data"
    }
   ],
   "source": [
    "plot_confusion_matrix(modelo, x_teste, y_teste) \n",
    "plt.show()  "
   ]
  },
  {
   "cell_type": "code",
   "execution_count": null,
   "id": "separated-mitchell",
   "metadata": {},
   "outputs": [],
   "source": []
  }
 ],
 "metadata": {
  "kernelspec": {
   "display_name": "Python 3",
   "language": "python",
   "name": "python3"
  },
  "language_info": {
   "codemirror_mode": {
    "name": "ipython",
    "version": 3
   },
   "file_extension": ".py",
   "mimetype": "text/x-python",
   "name": "python",
   "nbconvert_exporter": "python",
   "pygments_lexer": "ipython3",
   "version": "3.9.4"
  }
 },
 "nbformat": 4,
 "nbformat_minor": 5
}
