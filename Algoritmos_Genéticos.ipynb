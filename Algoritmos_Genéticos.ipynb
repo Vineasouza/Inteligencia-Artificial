{
  "nbformat": 4,
  "nbformat_minor": 0,
  "metadata": {
    "colab": {
      "name": "Algoritmos Genéticos IA (william).ipynb",
      "provenance": [],
      "collapsed_sections": []
    },
    "kernelspec": {
      "name": "python3",
      "display_name": "Python 3"
    },
    "language_info": {
      "name": "python"
    }
  },
  "cells": [
    {
      "cell_type": "markdown",
      "metadata": {
        "id": "_oHjLzX44N1o"
      },
      "source": [
        "# Para a função a seguir;\n",
        "\n",
        "> **2x + y2 + w = 52**\n",
        "\n",
        "Encontre o indivíduo que pode chegar a tal resultado apenas utilizando algoritmo genético."
      ]
    },
    {
      "cell_type": "code",
      "metadata": {
        "id": "3l2yZOnO5Fpe"
      },
      "source": [
        "import numpy as np \n",
        "import matplotlib.pyplot as plt\n",
        "import random\n",
        "import math\n",
        "from scipy.spatial import distance "
      ],
      "execution_count": null,
      "outputs": []
    },
    {
      "cell_type": "code",
      "metadata": {
        "id": "u1Su6QRnQmVc"
      },
      "source": [
        "def distrib_gauss(p0, pn, mean, process, show_process=False):\n",
        "\n",
        "  x = np.linspace(p0, pn, pn)\n",
        "  f = (1/(mean + 0.5* np.sqrt(2 * math.pi))) * np.exp(-0.5*((x-mean)/mean)**2)\n",
        "  if show_process == True:\n",
        "    plt.title('Fitness com função gaussiana para {}'.format(process))\n",
        "    plt.plot(x, f)\n",
        "    \n",
        "  gaus_list = []\n",
        "  for result in f:\n",
        "    gaus_list.append(result)\n",
        "\n",
        "  return gaus_list\n",
        "\n",
        "def fit_x(pop_x, show):\n",
        "  '''\n",
        "  2x da equação... Levando em consideração que o resultado deve ser 52, x não pode passar de 26 e nem ser zero\n",
        "  '''\n",
        "  \n",
        "  lst_pop_x = []\n",
        "  gaus_distribution = distrib_gauss(0, 26, 13, '2x', show)  \n",
        "  for ind, index in zip(pop_x, range(len(pop_x))):\n",
        "    score_pop_x = {}    \n",
        "    result = 2 * transform(ind)\n",
        "    score = 0\n",
        "    if result > 26:\n",
        "      score = 0.1\n",
        "    elif result == 0:\n",
        "      score = 0.1\n",
        "    elif result < 26 and result >= 0:\n",
        "      fitness = gaus_distribution[result]\n",
        "      score = (fitness * 100) / max(gaus_distribution)\n",
        "    score_pop_x['individual'] = ind\n",
        "    score_pop_x['individual_transform'] = result\n",
        "    score_pop_x['score'] = score\n",
        "    lst_pop_x.append(score_pop_x)\n",
        "  return lst_pop_x     \n",
        "  \n",
        "\n",
        "def fit_y(pop_y, show):\n",
        "  '''\n",
        "  y^2 da equação... Levando em consideração que o resultado deve ser 52, y não pode passar de 7 e nem ser zero\n",
        "  '''\n",
        "  \n",
        "  lst_pop_y = []\n",
        "  gaus_distribution = distrib_gauss(0, 7, 3.5, 'y^2', show)\n",
        "  for ind, index in zip(pop_y, range(len(pop_y))):\n",
        "    score_pop_y = {}    \n",
        "    result = 2 * transform(ind)\n",
        "    score = 0\n",
        "    if result > 7:\n",
        "      score = 0.1\n",
        "    elif result == 0:\n",
        "      score = 0.1\n",
        "    elif result < 7 and result >= 0:\n",
        "      fitness = gaus_distribution[result]\n",
        "      score = (fitness * 100) / max(gaus_distribution)\n",
        "    score_pop_y['individual'] = ind\n",
        "    score_pop_y['individual_transform'] = result\n",
        "    score_pop_y['score'] = score\n",
        "    lst_pop_y.append(score_pop_y)\n",
        "  return lst_pop_y \n",
        "\n",
        "\n",
        "\n",
        "def fit_w(pop_w, show):\n",
        "  '''\n",
        "  w da equação... Levando em consideração que o resultado deve ser 52, w não pode passar de 52 e nem ser zero\n",
        "  '''\n",
        "\n",
        "  lst_pop_w = []\n",
        "  gaus_distribution = distrib_gauss(0, 52, 26, 'w', show)  \n",
        "  for ind, index in zip(pop_w, range(len(pop_w))):\n",
        "    score_pop_w = {}    \n",
        "    result = 2 * transform(ind)\n",
        "    score = 0\n",
        "    if result > 52:\n",
        "      score = 0.1\n",
        "    elif result == 0:\n",
        "      score = 0.1\n",
        "    elif result < 52 and result >= 0:\n",
        "      fitness = gaus_distribution[result]\n",
        "      score = (fitness * 100) / max(gaus_distribution)\n",
        "    score_pop_w['individual'] = ind\n",
        "    score_pop_w['individual_transform'] = result\n",
        "    score_pop_w['score'] = score\n",
        "    lst_pop_w.append(score_pop_w)\n",
        "  return lst_pop_w \n",
        "\n",
        "\n",
        "def get_pop_mean(population):\n",
        "  med_scores = []\n",
        "\n",
        "  for ind in population:\n",
        "    score = ind['score']\n",
        "    med_scores.append(score)\n",
        "  return np.mean(med_scores)  \n",
        "\n",
        "def transform(individual):\n",
        "  string_ind = ''.join([str(i) for i in individual])\n",
        "  value_integer = int(string_ind, 2)\n",
        "  return value_integer\n",
        "\n",
        "def create_population(size_of_population, size_of_individual):\n",
        "  p_x = []\n",
        "  p_y = []\n",
        "  p_w = []\n",
        "\n",
        "  for n in range(size_of_population):\n",
        "    ind_x = []\n",
        "    ind_y = []\n",
        "    ind_w = []\n",
        "\n",
        "    for i in range(size_of_individual):\n",
        "      information = random.randint(0, 1)\n",
        "      ind_x.append(information)\n",
        "\n",
        "    for i in range(size_of_individual):\n",
        "      information = random.randint(0, 1)\n",
        "      ind_y.append(information)\n",
        "\n",
        "    for i in range(size_of_individual):\n",
        "      information = random.randint(0, 1)\n",
        "      ind_w.append(information)\n",
        "\n",
        "    p_x.append(ind_x)\n",
        "    p_y.append(ind_y)\n",
        "    p_w.append(ind_w)\n",
        "\n",
        "  return p_x, p_y, p_w\n",
        "\n",
        "def combine(x, y, w):\n",
        "\n",
        "  individuals = []\n",
        "\n",
        "  for ind_x in x:\n",
        "    for ind_y in y:\n",
        "      for ind_w in w:\n",
        "        x_sc = ind_x['individual_transform']\n",
        "        y_sc = ind_y['individual_transform']\n",
        "        w_sc = ind_w['individual_transform']\n",
        "\n",
        "        result_combine = 2 * x_sc + y_sc ** 2 + w_sc\n",
        "        if result_combine == 52:          \n",
        "          individuals = [ind_x, ind_y, ind_w]\n",
        "\n",
        "  return individuals         \n",
        "\n",
        "def analyse(x, y, w):\n",
        "  individuals = []\n",
        "\n",
        "  for i in range(len(x)):\n",
        "\n",
        "    x_sc = x[i]['individual_transform']\n",
        "    y_sc = y[i]['individual_transform']\n",
        "    w_sc = w[i]['individual_transform']\n",
        "    result_analyse = 2 * x_sc + y_sc ** 2 + w_sc\n",
        "    if result_analyse == 52:          \n",
        "      individuals = [ind_x, ind_y, ind_w]\n",
        "\n",
        "  return individuals\n",
        "\n",
        "def cross_over(dad_1, dad_2):\n",
        "\n",
        "  half = int(len(dad_1) / 2)\n",
        "\n",
        "  dad_1 = dad_1['individual']\n",
        "  dad_2 = dad_2['individual']\n",
        "\n",
        "  dad_1_frst_half = dad_1[:half]\n",
        "  dad_1_last_half = dad_1[half:]\n",
        "\n",
        "  dad_2_frst_half = dad_2[:half]\n",
        "  dad_2_last_half = dad_2[half:]\n",
        "\n",
        "  son_1 = dad_1_frst_half + dad_2_last_half\n",
        "  son_2 = dad_2_frst_half + dad_1_last_half\n",
        "\n",
        "  return son_1, son_2\n",
        "\n",
        "def mutate(individual):\n",
        "  \n",
        "  position = random.randint(0, len(individual) - 1)\n",
        "  value = random.randint(0, 1)\n",
        "\n",
        "  individual[position] = value\n",
        "  random.shuffle(individual)\n",
        "  return individual\n",
        "\n",
        "def run_methods(population):\n",
        "\n",
        "  new_population = []\n",
        "  \n",
        "  for i in range(0, len(population), 2):\n",
        "    dad_1 = population[i]\n",
        "    dad_2 = population[i+1]\n",
        "    son_1, son_2 = cross_over(dad_1, dad_2)\n",
        "    son_1 = mutate(son_1)\n",
        "    son_2 = mutate(son_2)\n",
        "    new_population.append(son_1)\n",
        "    new_population.append(son_2)\n",
        "    \n",
        "  return new_population   \n",
        "       \n",
        "\n",
        "\n",
        "\n",
        "\n"
      ],
      "execution_count": null,
      "outputs": []
    },
    {
      "cell_type": "code",
      "metadata": {
        "id": "I9jrAOV1QpTw"
      },
      "source": [
        "pop_x, pop_y, pop_w = create_population(20, 8) #(População, tamanho do cromossomo)"
      ],
      "execution_count": null,
      "outputs": []
    },
    {
      "cell_type": "code",
      "metadata": {
        "colab": {
          "base_uri": "https://localhost:8080/",
          "height": 281
        },
        "id": "xG3J6flpQ57g",
        "outputId": "f489e2d5-d259-4f16-99ef-59fbd895c25a"
      },
      "source": [
        "x = fit_x(pop_x, show=True)"
      ],
      "execution_count": null,
      "outputs": [
        {
          "output_type": "display_data",
          "data": {
            "image/png": "[encoded data removed]",
            "text/plain": [
              "<Figure size 432x288 with 1 Axes>"
            ]
          },
          "metadata": {
            "tags": [],
            "needs_background": "light"
          }
        }
      ]
    },
    {
      "cell_type": "code",
      "metadata": {
        "colab": {
          "base_uri": "https://localhost:8080/",
          "height": 281
        },
        "id": "-6gm2GUzQ9LL",
        "outputId": "47e55008-de80-47cb-efed-479e481c249f"
      },
      "source": [
        "y = fit_y(pop_y, show=True)"
      ],
      "execution_count": null,
      "outputs": [
        {
          "output_type": "display_data",
          "data": {
            "image/png": "[encoded data removed]",
            "text/plain": [
              "<Figure size 432x288 with 1 Axes>"
            ]
          },
          "metadata": {
            "tags": [],
            "needs_background": "light"
          }
        }
      ]
    },
    {
      "cell_type": "code",
      "metadata": {
        "colab": {
          "base_uri": "https://localhost:8080/",
          "height": 281
        },
        "id": "VoCVEA5vQ_O7",
        "outputId": "f36e61a9-a4fd-4fe2-9ddc-e2b3d7dc711a"
      },
      "source": [
        "w = fit_w(pop_w, show=True)"
      ],
      "execution_count": null,
      "outputs": [
        {
          "output_type": "display_data",
          "data": {
            "image/png": "[encoded data removed]",
            "text/plain": [
              "<Figure size 432x288 with 1 Axes>"
            ]
          },
          "metadata": {
            "tags": [],
            "needs_background": "light"
          }
        }
      ]
    },
    {
      "cell_type": "code",
      "metadata": {
        "colab": {
          "base_uri": "https://localhost:8080/"
        },
        "id": "kAVgdoa1QxK0",
        "outputId": "3f68f8f8-0770-45ea-d2dd-a33b5dea37e9"
      },
      "source": [
        "pop_x, pop_y, pop_w = create_population(20, 8) #(População, tamanho do cromossomo)\n",
        "\n",
        "result = 0\n",
        "it = 0\n",
        "while True:\n",
        "  \n",
        "  if result == 52:    \n",
        "    break\n",
        "  else:\n",
        "    x = fit_x(pop_x, show=False)\n",
        "    y = fit_y(pop_y, show=False)\n",
        "    w = fit_w(pop_w, show=False)\n",
        "\n",
        "    x = sorted(x, key=lambda d:d['score'], reverse=True)\n",
        "    y = sorted(y, key=lambda d:d['score'], reverse=True)\n",
        "    w = sorted(w, key=lambda d:d['score'], reverse=True)\n",
        "      \n",
        "    individuals = combine(x, y, w)\n",
        "    #individuals = analyse(x, y, w)    \n",
        "    if len(individuals) != 0:\n",
        "      ind_x = individuals[0]\n",
        "      ind_y = individuals[1]\n",
        "      ind_w = individuals[2]\n",
        "      print('2 * {} + {}² + {} = 52'.format(ind_x['individual_transform'], \n",
        "                                             ind_y['individual_transform'],\n",
        "                                             ind_w['individual_transform']), \n",
        "                                             'Score {}%'.format(\n",
        "                                                 np.mean([ind_x['score'],\n",
        "                                                          ind_y['score'],\n",
        "                                                          ind_w['score']])\n",
        "                                             ))\n",
        "      print(ind_x)\n",
        "      print(ind_y)\n",
        "      print(ind_w) \n",
        "\n",
        "      result = 52\n",
        "    else:\n",
        "      pop_x = run_methods(x)\n",
        "      pop_y = run_methods(y)\n",
        "      pop_w = run_methods(w)      \n",
        "      \n",
        "\n",
        "  it = it + 1"
      ],
      "execution_count": null,
      "outputs": [
        {
          "output_type": "stream",
          "text": [
            "2 * 6 + 4² + 24 = 52 Score 93.9554359769448%\n",
            "{'individual': [0, 0, 0, 0, 0, 0, 1, 1], 'individual_transform': 6, 'score': 87.42402985353698}\n",
            "{'individual': [0, 0, 0, 0, 0, 0, 1, 0], 'individual_transform': 4, 'score': 94.59594689067654}\n",
            "{'individual': [0, 0, 0, 0, 1, 1, 0, 0], 'individual_transform': 24, 'score': 99.8463311866209}\n"
          ],
          "name": "stdout"
        }
      ]
    },
    {
      "cell_type": "markdown",
      "metadata": {
        "id": "piTS8KY1TvGl"
      },
      "source": [
        "# **Encontrando mais de um indivíduo**\n",
        "\n",
        "\n",
        "\n",
        "1.   Encontrar 5 possíveis soluções\n",
        "\n"
      ]
    },
    {
      "cell_type": "code",
      "metadata": {
        "colab": {
          "base_uri": "https://localhost:8080/"
        },
        "id": "cJ2kMqpWTzCg",
        "outputId": "281587fa-9e2c-45c4-9443-0d6a8853ebf1"
      },
      "source": [
        "result = 0\n",
        "it = 0\n",
        "found = 0\n",
        "while True:\n",
        "  pop_x, pop_y, pop_w = create_population(20, 8) #(População, tamanho do cromossomo)\n",
        "  \n",
        "  if found == 5:    \n",
        "    break\n",
        "\n",
        "  else:\n",
        "    x = fit_x(pop_x, show=False)\n",
        "    y = fit_y(pop_y, show=False)\n",
        "    w = fit_w(pop_w, show=False)\n",
        "\n",
        "    x = sorted(x, key=lambda d:d['score'], reverse=True)\n",
        "    y = sorted(y, key=lambda d:d['score'], reverse=True)\n",
        "    w = sorted(w, key=lambda d:d['score'], reverse=True)\n",
        "      \n",
        "    individuals = combine(x, y, w)\n",
        "    #individuals = analyse(x, y, w)  \n",
        "\n",
        "    if len(individuals) != 0:\n",
        "      ind_x = individuals[0]\n",
        "      ind_y = individuals[1]\n",
        "      ind_w = individuals[2]\n",
        "      print('2 * {} + {}² + {} = 52'.format(ind_x['individual_transform'], \n",
        "                                             ind_y['individual_transform'],\n",
        "                                             ind_w['individual_transform']), \n",
        "                                             'Score {}%'.format(\n",
        "                                                 np.mean([ind_x['score'],\n",
        "                                                          ind_y['score'],\n",
        "                                                          ind_w['score']])\n",
        "                                             ))\n",
        "      \n",
        "      found = found + 1\n",
        "\n",
        "    else:\n",
        "      pop_x = run_methods(x)\n",
        "      pop_y = run_methods(y)\n",
        "      pop_w = run_methods(w)      \n",
        "      \n",
        "\n",
        "  it = it + 1"
      ],
      "execution_count": null,
      "outputs": [
        {
          "output_type": "stream",
          "text": [
            "2 * 26 + 0² + 0 = 52 Score 0.06666666666666667%\n",
            "2 * 0 + 2² + 48 = 52 Score 54.15462538513461%\n",
            "2 * 20 + 2² + 8 = 52 Score 85.74121756088077%\n",
            "2 * 4 + 2² + 40 = 52 Score 86.36873239182246%\n",
            "2 * 22 + 2² + 4 = 52 Score 79.89068826125738%\n"
          ],
          "name": "stdout"
        }
      ]
    }
  ]
}